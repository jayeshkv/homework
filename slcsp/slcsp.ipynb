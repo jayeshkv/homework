{
 "cells": [
  {
   "cell_type": "code",
   "execution_count": 419,
   "metadata": {
    "collapsed": false,
    "scrolled": true
   },
   "outputs": [],
   "source": [
    "import numpy as np\n",
    "import pandas as pd\n",
    "\n",
    "slcsp_csv = pd.read_csv('slcsp.csv')\n",
    "plans_csv = pd.read_csv('plans.csv')\n",
    "zips_csv = pd.read_csv('zips.csv')\n",
    "\n",
    "plans_csv['rate_area'] = list(zip(plans_csv.state, plans_csv.rate_area))\n",
    "plans_csv= plans_csv.drop('state',1)\n",
    "plans_csv = plans_csv[plans_csv.metal_level=='Silver']\n",
    "\n",
    "zips_csv['rate_area'] = list(zip(zips_csv.state, zips_csv.rate_area)) #joining state & rate_area\n",
    "zips_csv= zips_csv.drop('state',1) #dropping state from DataFrame\n",
    "\n",
    "mergedData =  pd.merge(plans_csv, zips_csv, on=['rate_area']) #merging based on rate_area (GA, 7)\n",
    "\n",
    "slcsp_csv= slcsp_csv.drop('rate',1)#dropping rate from DF\n",
    "zip_area_rate = pd.merge(slcsp_csv,mergedData[['rate_area','rate', 'zipcode']], on='zipcode', how='inner')#merging with slcsp_csv based on zipcode #dropping duplicates based on both the cols\n",
    "\n",
    "#setting up flags for 2 rate areas\n",
    "handle_R_A = zip_area_rate.groupby('zipcode').rate_area.transform('nunique') > 1\n",
    "zip_area_rate.loc[handle_R_A, 'test_flag']='T'\n",
    "zip_area_rate = zip_area_rate[zip_area_rate.test_flag != 'T'].reset_index()\n",
    "zip_area_rate= zip_area_rate.drop_duplicates([\"zipcode\",\"rate\"]) #dropping duplicates based on both the cols\n",
    "\n",
    "fin = zip_area_rate.groupby(['zipcode'])['rate'].nsmallest(2).groupby(level='zipcode').last().reset_index()\n",
    "finalCsv = pd.merge(slcsp_csv, fin, on='zipcode', how='outer')#finally merging with slcsp_csv for filtering \n",
    "finalCsv=  finalCsv.fillna('')\n",
    "\n",
    "finalCsv = pd.DataFrame(finalCsv, columns=['zipcode','rate'])\n",
    "fileName = 'modifiedCsv.csv'\n",
    "finalCsv.to_csv(fileName, index=False, encoding='utf-8')\n",
    "#finalCsv"
   ]
  }
 ],
 "metadata": {
  "kernelspec": {
   "display_name": "Python 2",
   "language": "python",
   "name": "python2"
  },
  "language_info": {
   "codemirror_mode": {
    "name": "ipython",
    "version": 2
   },
   "file_extension": ".py",
   "mimetype": "text/x-python",
   "name": "python",
   "nbconvert_exporter": "python",
   "pygments_lexer": "ipython2",
   "version": "2.7.11+"
  }
 },
 "nbformat": 4,
 "nbformat_minor": 0
}
